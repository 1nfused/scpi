{
 "metadata": {
  "name": "scpi-example"
 },
 "nbformat": 3,
 "nbformat_minor": 0,
 "worksheets": [
  {
   "cells": [
    {
     "cell_type": "code",
     "collapsed": false,
     "input": [
      "%config InlineBackend.figure_format = 'png'\n",
      "\n",
      "from functools import partial\n",
      "from scipy import signal\n",
      "hamming = partial(convolve,  signal.get_window('hamming', 1000)/1000, mode='same')"
     ],
     "language": "python",
     "metadata": {},
     "outputs": [],
     "prompt_number": 1
    },
    {
     "cell_type": "heading",
     "level": 1,
     "metadata": {},
     "source": [
      "Loading Agilent 33521B Waveform Generator with arbitrary waveform"
     ]
    },
    {
     "cell_type": "markdown",
     "metadata": {},
     "source": [
      "I am assuming that I'll be using 5 MSa/s sampling. I want to make a smooth waveform 1ms in length, so that corresponds to 5000 samples. In reality, I want to use less samples so that if there is jitter, the waveform terminates before the next trigger. \n",
      "\n",
      "The SCPI interface takes signed 16bit integer values, so biggest integer represented can be $2^{15} - 1 = 32,767$."
     ]
    },
    {
     "cell_type": "code",
     "collapsed": false,
     "input": [
      "rate = 5.e6; length = 0.980e-3; print rate*length;"
     ],
     "language": "python",
     "metadata": {},
     "outputs": [
      {
       "output_type": "stream",
       "stream": "stdout",
       "text": [
        "4900.0\n"
       ]
      }
     ],
     "prompt_number": 2
    },
    {
     "cell_type": "markdown",
     "metadata": {},
     "source": [
      "Now, calculate the waveform. I'll try a trapezoid of specified width that I'll heavily low-pass to smooth it. To make the trapezoid,\n",
      "\n",
      "- Take total length n\n",
      "- Subtract out \"buffer length\" on each side $2*buf$\n",
      "- Divide remaining $n-2*buf$ into quarters\n",
      "- The first and last quarter are ramps, while the top is constant\n",
      "- Remember to always use integer division"
     ]
    },
    {
     "cell_type": "code",
     "collapsed": false,
     "input": [
      "n = np.arange(int(rate*length))\n",
      "buf = len(n)/10\n",
      "q = (len(n) - 2*buf)/4\n",
      "\n",
      "wave = zeros((len(n),));\n",
      "wave[buf:buf+q] = linspace(0, 1., num=q)\n",
      "wave[buf+q:buf+3*q] = 1.\n",
      "wave[buf+3*q:buf+4*q] = linspace(1., 0, num=q)\n",
      "#plot(n, wave);\n",
      "\n",
      "# now lowpass and rescale \n",
      "wave = hamming(wave);\n",
      "wave *= 1/(np.max(wave) - np.min(wave))\n",
      "#plot(n, wave);\n",
      "\n",
      "# scale and convert to int16\n",
      "wave = np.asarray(wave*(2**15-1), dtype='>i2') # Two-byte int with LittleEndian ordering\n",
      "figure(figsize=(12,8), dpi=240)\n",
      "plot(n, wave);\n"
     ],
     "language": "python",
     "metadata": {},
     "outputs": [
      {
       "output_type": "display_data",
       "png": "[encoded data removed]",
       "text": [
        "<matplotlib.figure.Figure at 0x111a73210>"
       ]
      }
     ],
     "prompt_number": 3
    },
    {
     "cell_type": "code",
     "collapsed": false,
     "input": [
      "fwave = rfft(wave - mean(wave))\n",
      "\n",
      "figure(figsize=(12, 8)); plot(fwave[:10], marker='+', linewidth=0);\n",
      "# No frequencies higher than 5th harmonic, ~5 KHz"
     ],
     "language": "python",
     "metadata": {},
     "outputs": [
      {
       "output_type": "stream",
       "stream": "stderr",
       "text": [
        "/usr/local/lib/python2.7/site-packages/numpy/core/numeric.py:235: ComplexWarning: Casting complex values to real discards the imaginary part\n",
        "  return array(a, dtype, copy=False, order=order)\n"
       ]
      },
      {
       "output_type": "pyout",
       "prompt_number": 4,
       "text": [
        "[<matplotlib.lines.Line2D at 0x111f5b250>]"
       ]
      },
      {
       "output_type": "display_data",
       "png": "[encoded data removed]",
       "text": [
        "<matplotlib.figure.Figure at 0x111a637d0>"
       ]
      }
     ],
     "prompt_number": 4
    },
    {
     "cell_type": "markdown",
     "metadata": {},
     "source": [
      "## SCPI Overview (Agilent 33521b)\n",
      "\n",
      "I wrote a little script to connect to the waveform generator over the socket interface (port 5025). *Note: it does work over the internet, but you may have to set a timeout on the order of 1-2 secs LAN only!*\n",
      "\n",
      "### Useful commands\n",
      "\n",
      "- `*RST` - reset to default or known state\n",
      "- `*IDN?` - returns the id of the instrument\n",
      "- `*CLS` - not sure, but usually done with *RST\n",
      "- `*OPC?` - is operations queue empty? return 1 if true\n",
      "- `SYST:ERR?` - returns the last error to occur\n",
      "- `DATA:VOLatile:CLEar` - clear the loaded memories (keeps the default waveform though)\n",
      "- `DATA:ATTR:POIN? <arb>` - returns the number of points in the `<arb>` waveform (optional), or the currently loaded one \n",
      "- `DATA:ARB:DAC <arb>, <binary block>` - send a binary block of signed 2-byte integers in little endian format (values between $\\pm 2^{15}-1$)\n",
      "- `FUNCtion:ARB <arb>` - load arbitrary waveform <arb> from volatile memory\n",
      "- `MMEMory:STOR:DATA1 \"INT:\\<arb>.seq\"` - write the current waveform into internal memory\n",
      "- `MMEMory:LOAD:DATA1 \"INT:\\<arb>.seq\"` - load waveform into channel 1 from internal memory\n",
      "- `DATA:VOL:CAT?` - list all waveforms in volatile memory\n",
      "- `DATA:SEQ <bin block>` - create a data sequence playlist\n",
      "\n",
      "Binary block looks like `#<ndigits><nbytes><data>` where\n",
      "\n",
      "- `ndigits` is the number of characters needed to represent the length of the block in bytes (or characters)\n",
      "- `nbytes` number of bytes to follow\n",
      "- `data` block of integers in little endian format\n",
      "\n",
      "For `DATA:SEQ` command, the binary block looks like `#<ndigits><nbytes><data>` where `<data>` consists of the following fields separated by commas\n",
      "\n",
      "- `<name>` - the unquoted name of the sequence\n",
      "\n",
      "and then for a sequence with N parts, N each of the following\n",
      "\n",
      "- `<part_n>,` - quoted string naming a arb name in volatile memory\n",
      "- `<repeat_count>,` - number of times to play this segment. A value between $1$ and $10^6$, or `infinite`. Only used if play control is `\"repeat\"`\n",
      "- `<play_control>,` - quoted string deciding how to play this segment. Possible values are `\"once\"` (play once), `\"onceWaitTrig\"` (play once then wait until trigger, don't advance until then), `\"repeat\"`, `\"repeatInf\"` (repeat until stopped with `ABOR` command), and `\"repeatTilTrig\"` (repeat until triggered, then advance)\n",
      "- `<marker_mode>,` - quoted string which controls the marker behavior. The marker is a control that can be output to the sync connector. Possible values are `\"maintain\"` (keep previous value), `\"lowAtStart\"` (force low at start of segment), `\"highAtStart\"` (force high at start of segment), and `\"highAtStartGoLow\"` (high at first then set low)\n",
      "- `<marker_idx>` - integer location of marker point within the waveform, between $4$ and `len(part_n)-3`\n",
      "\n",
      "### Examples\n",
      "\n",
      "This returns an error\n",
      "\n",
      "    >> DATA:ARB:DAC test1, #212abcdabcdabab\n",
      "    >> SYST:ERR?\n",
      "    << +882,\"Arb: Segment too small\""
     ]
    },
    {
     "cell_type": "heading",
     "level": 2,
     "metadata": {},
     "source": [
      "Loading waveform over SCPI"
     ]
    },
    {
     "cell_type": "code",
     "collapsed": false,
     "input": [
      "import scpi; SCPI = scpi.SCPI;\n",
      "\n",
      "host = '141.211.98.105'\n",
      "a = SCPI(host, timeout=0.5)\n",
      "a.write('OUTP 0');\n",
      "a.ask('SYST:ERR?');"
     ],
     "language": "python",
     "metadata": {},
     "outputs": [
      {
       "output_type": "stream",
       "stream": "stdout",
       "text": [
        ">> SYST:ERR? \n",
        "<< +0,\"No error\" \n"
       ]
      }
     ],
     "prompt_number": 5
    },
    {
     "cell_type": "code",
     "collapsed": false,
     "input": [
      "a.write('*RST'); a.write('*CLS');"
     ],
     "language": "python",
     "metadata": {},
     "outputs": [],
     "prompt_number": 6
    },
    {
     "cell_type": "code",
     "collapsed": false,
     "input": [
      "# Send smoothed trapezoid \n",
      "nbytes=2*len(wave) # 2 bytes per 16 bit integer\n",
      "ndigits = len(str(nbytes)) # number of digits needed\n",
      "\n",
      "a._write('DATA:ARB:DAC smoothtrap, #{n}{nbytes}'.format(nbytes=nbytes, n=ndigits))\n",
      "a._write(wave.tostring())\n",
      "a._write('\\n');\n",
      "a.ask('SYST:ERR?');"
     ],
     "language": "python",
     "metadata": {},
     "outputs": [
      {
       "output_type": "stream",
       "stream": "stdout",
       "text": [
        ">> SYST:ERR? \n",
        "<<  \n",
        ">> SYST:ERR? \n",
        "<< +0,\"No error\"\n",
        "+0,\"No error\" \n"
       ]
      }
     ],
     "prompt_number": 7
    },
    {
     "cell_type": "code",
     "collapsed": false,
     "input": [
      "# send dc\n",
      "dc = np.zeros((1000,), dtype='>i2')\n",
      "nbytes=2*len(dc) # 2 bytes per 16 bit integer\n",
      "ndigits = len(str(nbytes)) # number of digits needed\n",
      "\n",
      "a._write('DATA:ARB:DAC dc, #{n}{nbytes}'.format(nbytes=nbytes, n=ndigits))\n",
      "a._write(dc.tostring())\n",
      "a._write('\\n');\n",
      "a.ask('SYST:ERR?');"
     ],
     "language": "python",
     "metadata": {},
     "outputs": [
      {
       "output_type": "stream",
       "stream": "stdout",
       "text": [
        ">> SYST:ERR? \n",
        "<< +0,\"No error\" \n"
       ]
      }
     ],
     "prompt_number": 8
    },
    {
     "cell_type": "code",
     "collapsed": false,
     "input": [
      "a.ask('*OPC?');"
     ],
     "language": "python",
     "metadata": {},
     "outputs": [
      {
       "output_type": "stream",
       "stream": "stdout",
       "text": [
        ">> *OPC? \n",
        "<< 1 \n"
       ]
      }
     ],
     "prompt_number": 9
    },
    {
     "cell_type": "code",
     "collapsed": false,
     "input": [
      "a.ask('DATA:VOL:CAT?');"
     ],
     "language": "python",
     "metadata": {},
     "outputs": [
      {
       "output_type": "stream",
       "stream": "stdout",
       "text": [
        ">> DATA:VOL:CAT? \n",
        "<< \"EXP_RISE\",\"SMOOTHTRAP\",\"DC\" \n"
       ]
      }
     ],
     "prompt_number": 10
    },
    {
     "cell_type": "code",
     "collapsed": false,
     "input": [
      "binblock = '\"stark\",smoothtrap,0,onceWaitTrig,highAtStart,4,dc,0,onceWaitTrig,lowAtStart,4'\n",
      "nbytes=len(binblock) # 2 bytes per 16 bit integer\n",
      "ndigits = len(str(nbytes)) # number of digits needed\n",
      "\n",
      "a._write('DATA:SEQ #{n}{nbytes}'.format(nbytes=nbytes, n=ndigits))\n",
      "a._write(binblock)\n",
      "a._write('\\n');\n",
      "\n",
      "a.ask('DATA:ATTR:POIN? stark') # Should be 5900 pts\n",
      "a.ask('SYST:ERR?');"
     ],
     "language": "python",
     "metadata": {},
     "outputs": [
      {
       "output_type": "stream",
       "stream": "stdout",
       "text": [
        ">> DATA:ATTR:POIN? stark \n",
        "<< +5900 \n",
        ">> SYST:ERR? \n",
        "<< +0,\"No error\" \n"
       ]
      }
     ],
     "prompt_number": 11
    },
    {
     "cell_type": "code",
     "collapsed": false,
     "input": [
      "a.write('FUNC:ARB stark');\n",
      "a.write('MMEMory:STOR:DATA1 \"INT:\\stark.seq\"');\n",
      "a.ask('SYST:ERR?');"
     ],
     "language": "python",
     "metadata": {},
     "outputs": [
      {
       "output_type": "stream",
       "stream": "stdout",
       "text": [
        ">> SYST:ERR? \n",
        "<< +0,\"No error\" \n"
       ]
      }
     ],
     "prompt_number": 12
    },
    {
     "cell_type": "code",
     "collapsed": false,
     "input": [
      "a.write('OUTP:LOAD 2180'); # Set load 2.18k\n",
      "a.ask('VOLT:UNIT?');\n",
      "a.write('APPL:ARB 5e6,1,0');\n",
      "a.write('VOLT:LIM:HIGH 5.0')\n",
      "#a.write('VOLT:LIM:LOW -1.200')\n",
      "a.write('VOLT:LIM:STAT ON')\n",
      "a.write('TRIG:SOUR EXT')\n",
      "a.ask('SYST:ERR?');"
     ],
     "language": "python",
     "metadata": {},
     "outputs": [
      {
       "output_type": "stream",
       "stream": "stdout",
       "text": [
        ">> VOLT:UNIT? \n",
        "<< VPP \n",
        ">> SYST:ERR? \n",
        "<< +0,\"No error\" \n"
       ]
      }
     ],
     "prompt_number": 13
    },
    {
     "cell_type": "code",
     "collapsed": false,
     "input": [
      "a.ask('OUTP?');"
     ],
     "language": "python",
     "metadata": {},
     "outputs": [
      {
       "output_type": "stream",
       "stream": "stdout",
       "text": [
        ">> OUTP? \n",
        "<< 1 \n"
       ]
      }
     ],
     "prompt_number": 14
    },
    {
     "cell_type": "code",
     "collapsed": false,
     "input": [
      "a.close()"
     ],
     "language": "python",
     "metadata": {},
     "outputs": [],
     "prompt_number": 15
    },
    {
     "cell_type": "code",
     "collapsed": false,
     "input": [],
     "language": "python",
     "metadata": {},
     "outputs": [],
     "prompt_number": 15
    }
   ],
   "metadata": {}
  }
 ]
}